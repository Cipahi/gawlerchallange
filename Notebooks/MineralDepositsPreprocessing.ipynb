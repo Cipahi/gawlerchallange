{
 "cells": [
  {
   "cell_type": "markdown",
   "metadata": {},
   "source": [
    "<H1>Explore SA-GAWLER CHALLENGE\n"
   ]
  },
  {
   "cell_type": "markdown",
   "metadata": {},
   "source": [
    "In recent years, researches on processing geochemical data, identifying geochemical anomalies using machine learning and data science has made important progress. This notebook intents a kick start for such an initiative in finding unexplored resources of Southern Australia.\n",
    "<blockquote><H5>\"The present is the key to past\" - Sir Charles Lyell</H5></blockquote>\n",
    " \n",
    "This notebook focuses on the basic pre-processing of the available data that are required for the challenge. In the Gawler challenge, we will be using two machine learning models to predict the commodity present at a particular location. In this notebook, we will be discussing the data preprocessing of the preliminary model which is used to predict the presence of minerals at a particular location. This is performed using the data collected from the SARIG Data Package. \n",
    "<hr>"
   ]
  },
  {
   "cell_type": "markdown",
   "metadata": {},
   "source": [
    "<H2>   Data Preparation"
   ]
  },
  {
   "cell_type": "markdown",
   "metadata": {},
   "source": [
    "Importing Necessary libraries"
   ]
  },
  {
   "cell_type": "code",
   "execution_count": null,
   "metadata": {},
   "outputs": [],
   "source": [
    "import os\n",
    "import pandas as pd\n",
    "import matplotlib.pyplot as plt\n",
    "import folium\n",
    "from tqdm import trange\n",
    "from collections import Counter\n",
    "import warnings\n",
    "warnings.filterwarnings(\"ignore\") "
   ]
  },
  {
   "cell_type": "markdown",
   "metadata": {},
   "source": [
    "The SARIG data package contains information including details of <b>Mineral Deposits, Drillholes, Rock Samples & Analysis and Field Observations</b>. \n",
    "Because this data is for the preliminary model, we will only be using data associated with Mineral deposits.\n",
    "<hr>\n",
    "Extracting all file names related to Mineral Deposits (sarig_md):"
   ]
  },
  {
   "cell_type": "code",
   "execution_count": null,
   "metadata": {},
   "outputs": [],
   "source": [
    "folder_name = r\"data\\SARIG_Data_Package\\\\\"\n",
    "# Get names of Mineral Deposit csv files\n",
    "md_files_names = [file_name for file_name in os.listdir(folder_name) if file_name.startswith('sarig_md')]\n",
    "print(md_files_names)   "
   ]
  },
  {
   "cell_type": "code",
   "execution_count": null,
   "metadata": {},
   "outputs": [],
   "source": [
    "# Get the shape of Mineral Deposit csv files\n",
    "for file in md_files_names:\n",
    "    df = pd.read_csv(os.path.join(folder_name + file), encoding = \"ISO-8859-1\")\n",
    "    print(df.shape)"
   ]
  },
  {
   "cell_type": "markdown",
   "metadata": {},
   "source": [
    "<H2>Loading Data"
   ]
  },
  {
   "cell_type": "markdown",
   "metadata": {},
   "source": [
    "<hr>\n",
    "Loading Mineral Deposits data to different dataframes"
   ]
  },
  {
   "cell_type": "code",
   "execution_count": null,
   "metadata": {},
   "outputs": [],
   "source": [
    "# Load csv Data\n",
    "md_details = pd.read_csv(os.path.join(folder_name + 'sarig_md_details_exp.csv'), encoding = \"ISO-8859-1\")\n",
    "md_commodity = pd.read_csv(os.path.join(folder_name + 'sarig_md_commodity_exp.csv'), encoding = \"ISO-8859-1\")\n",
    "md_mineralogy = pd.read_csv(os.path.join(folder_name + 'sarig_md_mineralogy_exp.csv'), encoding = \"ISO-8859-1\")\n",
    "md_zone_hr_lith = pd.read_csv(os.path.join(folder_name + 'sarig_md_zone_hr_lith_exp.csv'), encoding = \"ISO-8859-1\")\n",
    "md_zone_lith = pd.read_csv(os.path.join(folder_name + 'sarig_md_zone_lith_exp.csv'), encoding = \"ISO-8859-1\")"
   ]
  },
  {
   "cell_type": "markdown",
   "metadata": {},
   "source": [
    "<H2>Exploratory Data Analysis of Mineral Deposit Datasets"
   ]
  },
  {
   "cell_type": "markdown",
   "metadata": {},
   "source": [
    "Exploratory Data Analysis is a philosophical and artistical approach to gauge every nuance from the data at an early encounter. We will be achieving this by using various visual methods. For ease of data visualisation, we have used Tableau Desktop, one of the most popular visualisation tool.\n",
    "The below figure shows the top commodities in the details dataset\n",
    "![d](Figures/Bar_Chart_Commodities_1.png \"Commodities\")\n",
    "    <blockquote> We can clearly see that the variable commodity contains comma separated mineral names in a single cell for various records. In data preprocessing step we will split commas separated values into different rows</blockquote> \n",
    " \n",
    "<hr>\n",
    "The geographical mineral distribution of commodities are generated below. \n",
    "\n",
    "![d](Figures/map_commodities_full.png \"Commodities_map\")\n",
    "\n",
    "   <blockquote> We can clearly see that the distribution contains information outside of Gawler Region. In data cleaning step we will only select data from Gawler region so that the model accuracy is improved</blockquote> \n",
    "   \n",
    "   \n",
    "<hr>\n",
    "The number of records of mineral ore is generated below.\n",
    "\n",
    "![d](Figures/bar_minerology_ore.png \"Commodities_map\")\n",
    "\n",
    "\n",
    "<blockquote> We can clearly see that the data contains large number of null values. In data cleaning step, we will remove large null values</blockquote> \n"
   ]
  },
  {
   "cell_type": "markdown",
   "metadata": {},
   "source": [
    "<H2> Data Cleaning\n",
    "<hr>\n",
    "<h3><i>1) Feature selection</i></h3>\n",
    "<br>\n",
    "Now we eliminate the highly correlated columns and keep only relevant ones. (For example, GDA94 and GDA2020 columns can be called as redundant)\n"
   ]
  },
  {
   "cell_type": "code",
   "execution_count": null,
   "metadata": {},
   "outputs": [],
   "source": [
    "# Select relevant columns\n",
    "md_details = md_details[['MINERAL_DEPOSIT_NO', 'DISCOVERY_YEAR', 'COMMODITIES', 'MINEROLOGY_ORE',\n",
    "                         'MINEROLOGY_GANGUE', 'SITE_NO', 'ZONE_GDA2020', 'LONGITUDE_GDA2020', 'LATITUDE_GDA2020', \n",
    "                         'SURVEY_METHOD']]\n",
    "md_details = md_details.fillna('-')\n"
   ]
  },
  {
   "cell_type": "markdown",
   "metadata": {},
   "source": [
    "Here we display the data in the map to get a visual understanding of the data"
   ]
  },
  {
   "cell_type": "code",
   "execution_count": null,
   "metadata": {},
   "outputs": [],
   "source": [
    "md_details['LATITUDE_GDA2020'] = md_details['LATITUDE_GDA2020'].apply(lambda x:round(x,2))\n",
    "md_details['LONGITUDE_GDA2020'] = md_details['LONGITUDE_GDA2020'].apply(lambda x:round(x,2))\n",
    "md_density = md_details.groupby(['LATITUDE_GDA2020','LONGITUDE_GDA2020'])['MINERAL_DEPOSIT_NO'].count().reset_index()"
   ]
  },
  {
   "cell_type": "markdown",
   "metadata": {},
   "source": [
    "One can cleary see that the dataset contains information of area outside Gawler region. Reducing the area to Galwer region can help in creating a better quality model."
   ]
  },
  {
   "cell_type": "markdown",
   "metadata": {},
   "source": [
    "<hr>\n",
    "<h3><i>2) Removing Invalid Data</i></h3>\n",
    "<br>\n",
    "Variables containing a large number of Null value can deplete the model quality. So, we will be performing an initial cleanup to remove columns having a greater percentage of irrelevant data as discussed in the EDA."
   ]
  },
  {
   "cell_type": "code",
   "execution_count": null,
   "metadata": {},
   "outputs": [],
   "source": [
    "#Function to clean and drop columns with large missing values\n",
    "def clean_df(df):\n",
    "    # Remove duplicate row\n",
    "    df = df.drop_duplicates()\n",
    "\n",
    "    # Drop columns with more than 75% missing values\n",
    "    for col in df.columns:\n",
    "        if df[col].isna().sum() > (0.75 * len(df)):\n",
    "            df = df.drop(col, axis=1)\n",
    "    return df"
   ]
  },
  {
   "cell_type": "code",
   "execution_count": null,
   "metadata": {},
   "outputs": [],
   "source": [
    "\n",
    "# Clean Data and dropping columns with large  missing values\n",
    "md_commodity = clean_df(md_commodity)\n",
    "md_mineralogy = clean_df(md_mineralogy)\n",
    "md_zone_hr_lith = clean_df(md_zone_hr_lith)\n",
    "md_zone_lith = clean_df(md_zone_lith)"
   ]
  },
  {
   "cell_type": "markdown",
   "metadata": {},
   "source": [
    "<hr>\n",
    "<h3><i>3) Limiting data to Gawler region</i></h3>\n",
    "<br>\n",
    "Now we extract the data from Gawler region.[X(-30,-36),Y(136,142)]"
   ]
  },
  {
   "cell_type": "code",
   "execution_count": null,
   "metadata": {},
   "outputs": [],
   "source": [
    "south_aus_coord = {'lat': (-35.1, -26.79),\n",
    "                   'long': (131, 138.59)}\n",
    "\n",
    "md_details = md_details[(md_details['LATITUDE_GDA2020'] > south_aus_coord['lat'][0]) &\\\n",
    "                (md_details['LATITUDE_GDA2020'] < south_aus_coord['lat'][1])]\n",
    "md_details = md_details[(md_details['LONGITUDE_GDA2020'] > south_aus_coord['long'][0]) &\\\n",
    "                (md_details['LONGITUDE_GDA2020'] < south_aus_coord['long'][1])]\n",
    "md_density_sa = md_details.groupby(['LATITUDE_GDA2020','LONGITUDE_GDA2020'])['MINERAL_DEPOSIT_NO'].\\\n",
    "                count().reset_index()"
   ]
  },
  {
   "cell_type": "code",
   "execution_count": null,
   "metadata": {
    "scrolled": false
   },
   "outputs": [],
   "source": [
    "# Distribution of Mineral Deposits\n",
    "m = folium.Map(location=[md_density_sa['LATITUDE_GDA2020'].mean(),\n",
    "                         md_density_sa['LONGITUDE_GDA2020'].mean()], zoom_start=4)\n",
    " \n",
    "for i in trange(0,len(md_density_sa)):\n",
    "    folium.Circle(\n",
    "      location=[md_density_sa.iloc[i]['LATITUDE_GDA2020'], md_density_sa.iloc[i]['LONGITUDE_GDA2020']],\n",
    "      radius=md_density_sa.iloc[i]['MINERAL_DEPOSIT_NO']*1000,\n",
    "      color='crimson',\n",
    "      fill=True,\n",
    "      fill_color='crimson'\n",
    "   ).add_to(m)\n",
    "m"
   ]
  },
  {
   "cell_type": "markdown",
   "metadata": {},
   "source": [
    "\n",
    "![d](Figures/map_commodities_gawler.png \"Commodities_map\")"
   ]
  },
  {
   "cell_type": "markdown",
   "metadata": {},
   "source": [
    "<H2>Processing"
   ]
  },
  {
   "cell_type": "markdown",
   "metadata": {},
   "source": [
    "From EDA analysis we found that commodities/minerology_ore/minerology_gangue column contains multiple elements. To do proper prediction we need to split them into different rows. "
   ]
  },
  {
   "cell_type": "code",
   "execution_count": null,
   "metadata": {},
   "outputs": [],
   "source": [
    "\n",
    "md_details['COMMODITIES'] = md_details['COMMODITIES'].apply(lambda x:x.split(',  '))\n",
    "md_details['MINEROLOGY_ORE'] = md_details['MINEROLOGY_ORE'].apply(lambda x:x.split(',  '))\n",
    "md_details['MINEROLOGY_GANGUE'] = md_details['MINEROLOGY_GANGUE'].apply(lambda x:x.split(',  '))\n",
    "md_details.head()"
   ]
  },
  {
   "cell_type": "markdown",
   "metadata": {},
   "source": [
    "The top ten commodities are displayed using a bar graph. This clearly shows that Copper and Gold are the most abundant commodities in the region"
   ]
  },
  {
   "cell_type": "code",
   "execution_count": null,
   "metadata": {
    "scrolled": false
   },
   "outputs": [],
   "source": [
    "commodities = dict(Counter(md_details['COMMODITIES'].sum()))\n",
    "commodities_df = pd.DataFrame({'Commodities':list(commodities.keys()), \n",
    "                               'Count':list(commodities.values())}).set_index('Commodities').sort_values('Count',\n",
    "                                                                                                         ascending=False)\n",
    "\n",
    "# Top 10 Mineral commodities found\n",
    "commodities_df[:10].plot(kind='bar', figsize=(15,8), title='Minerals', color='goldenrod', rot=75, fontsize=12, legend=False)"
   ]
  },
  {
   "cell_type": "markdown",
   "metadata": {},
   "source": [
    "Combining md_details, md_commodity and md_minerology data¶\n"
   ]
  },
  {
   "cell_type": "code",
   "execution_count": null,
   "metadata": {},
   "outputs": [],
   "source": [
    "# Select relevant columns\n",
    "md_commodity = md_commodity[['MINERAL_DEPOSIT_NO', 'COMMODITY_NAME', 'SIGNIFICANCE']]\n",
    "md_mineralogy = md_mineralogy[['MINERAL_DEPOSIT_NO', 'MINERAL', 'RELATIVE_ABUNDANCE_CODE',\n",
    "                               'MINERAL_TYPE', 'WEATHERING_PRODUCT']]\n",
    "\n",
    "# Merge md_details, md_commodity and md_minerology data\n",
    "md_detail_comm = md_details.merge(md_commodity, on='MINERAL_DEPOSIT_NO', how='left').\\\n",
    "                 drop(['COMMODITIES'], axis=1)\n",
    "md_detail_comm_min = md_detail_comm.merge(md_mineralogy, on='MINERAL_DEPOSIT_NO', how='left').\\\n",
    "                     drop(['MINEROLOGY_ORE', 'MINEROLOGY_GANGUE'], axis=1, )\n",
    "md_detail_comm_min.head()"
   ]
  },
  {
   "cell_type": "markdown",
   "metadata": {},
   "source": [
    "<br>Separating the 10 commodity data into different csv files so that we can separately create classification models for each commodity"
   ]
  },
  {
   "cell_type": "code",
   "execution_count": null,
   "metadata": {},
   "outputs": [],
   "source": [
    "top_10 = list(md_commodity['COMMODITY_NAME'].value_counts()[:10].index.values)\n",
    "\n",
    "comm_dict = {}\n",
    "cleaned_notebooks_path='../cleaned_datasets/'\n",
    "for comm in top_10:\n",
    "    comm_csv_true = md_detail_comm_min[md_detail_comm_min['COMMODITY_NAME'] == comm]\n",
    "    comm_csv_false = md_detail_comm_min[md_detail_comm_min['COMMODITY_NAME'] != comm]\n",
    "    comm_csv_true['Is_present'], comm_csv_false['Is_present'] = 1, 0\n",
    "    comm_csv = comm_csv_true.append(comm_csv_false)\n",
    "    comm_csv = comm_csv.drop_duplicates(['MINERAL_DEPOSIT_NO', 'LONGITUDE_GDA2020',\n",
    "                                         'LATITUDE_GDA2020'])\n",
    "    comm_dict[comm] = comm_csv\n",
    "    comm_csv.to_csv(cleaned_notebooks_path+comm+'.csv')\n"
   ]
  },
  {
   "cell_type": "markdown",
   "metadata": {},
   "source": [
    "We here explore the newly created Gold data set\n",
    "\n",
    "It is clear from the below figure that Gold was found in 1519 locations\n",
    "\n",
    "![Gold Data](Figures/Gold%20Bar%20graph.png \"Gold Data\")\n",
    "\n",
    "The map below shows the geo locations in which gold was found and not found\n",
    "\n",
    "![gold Map](Figures/map%20gold.png \"Gold Data\")\n",
    "\n",
    "By using this location data of each commodities, we can create a classifier model using the top 10 commodities. These models can be used to predict whether there is a potential for a mineral in a particular location based on historic data. The model created from the above data will completely be based on mineral deposits. This model can be used to do preliminary test for minerals at a particular location.\n",
    "Using other data like Hydrochemical data, we could create a more accurate model which requires input from physical site. This model can be applied after doing the preliminary test. \n",
    "\n",
    "The 10 commodity data is stored in 10 csv files in the cleaned_datasets\n",
    "\n"
   ]
  },
  {
   "cell_type": "markdown",
   "metadata": {},
   "source": [
    "<H2>Additional Analysis"
   ]
  },
  {
   "cell_type": "code",
   "execution_count": null,
   "metadata": {},
   "outputs": [],
   "source": [
    "md_commodity = md_commodity[['MINERAL_DEPOSIT_NO', 'COMMODITY_NAME', 'SIGNIFICANCE']]\n",
    "\n",
    "# Relative economic significance of the commodity to the mineral deposit\n",
    "md_commodity['SIGNIFICANCE'].value_counts().plot(kind='bar', figsize=(15,8), title='Relative economic significance',\n",
    "                                                 color='limegreen', rot=0, fontsize=14)"
   ]
  },
  {
   "cell_type": "code",
   "execution_count": null,
   "metadata": {},
   "outputs": [],
   "source": [
    "ore = dict(Counter(md_details['MINEROLOGY_ORE'].sum()))\n",
    "ore_df = pd.DataFrame({'MINEROLOGY ORE':list(ore.keys()), \n",
    "                       'Count':list(ore.values())}).set_index('MINEROLOGY ORE').sort_values('Count', ascending=False)\n",
    "\n",
    "gangue = dict(Counter(md_details['MINEROLOGY_GANGUE'].sum()))\n",
    "gangue_df = pd.DataFrame({'MINEROLOGY GANGUE':list(gangue.keys()), \n",
    "                          'Count':list(gangue.values())}).set_index('MINEROLOGY GANGUE').sort_values('Count', ascending=False)"
   ]
  },
  {
   "cell_type": "code",
   "execution_count": null,
   "metadata": {},
   "outputs": [],
   "source": [
    "gangue_count = ore['-']\n",
    "ore_count = gangue['-']\n",
    "\n",
    "plt.figure(figsize=(15,9))\n",
    "plt.pie([gangue_count, ore_count], labels=['Ores', 'Gangues'], colors=['slategrey', 'darkslateblue'], autopct='%1.1f%%',)\n",
    "plt.show()"
   ]
  },
  {
   "cell_type": "markdown",
   "metadata": {},
   "source": [
    "39.1% of the mineral types found in mineral deposits are Ores and the remaining 60.9% are gangues"
   ]
  },
  {
   "cell_type": "code",
   "execution_count": null,
   "metadata": {},
   "outputs": [],
   "source": [
    "md_mineralogy = md_mineralogy[['MINERAL_DEPOSIT_NO', 'MINERAL', 'RELATIVE_ABUNDANCE_CODE', 'WEATHERING_PRODUCT']]\n",
    "\n",
    "# Top 10 Minerals found\n",
    "# Relative economic significance of the commodity to the mineral deposit\n",
    "md_mineralogy['MINERAL'].value_counts()[:10].plot(kind='bar', figsize=(15,8), title='Minerals',\n",
    "                                                  color='mediumslateblue', rot=45, fontsize=14)"
   ]
  },
  {
   "cell_type": "code",
   "execution_count": null,
   "metadata": {},
   "outputs": [],
   "source": [
    "# Top 10 Minerals found in Ores\n",
    "# There is no data for 3382 rows\n",
    "ore_df[1:11].plot(kind='bar', figsize=(15,8), title='Minerals', color='slategrey', rot=45, fontsize=12, legend=False)"
   ]
  },
  {
   "cell_type": "code",
   "execution_count": null,
   "metadata": {},
   "outputs": [],
   "source": [
    "# Top 10 Minerals found in Gangues\n",
    "# There is no data for 5273 rows\n",
    "gangue_df[1:11].plot(kind='bar', figsize=(15,8), title='Minerals', color='darkslateblue', rot=45, fontsize=12, legend=False)"
   ]
  },
  {
   "cell_type": "markdown",
   "metadata": {},
   "source": [
    "**Trace**    - **1-4 % by volume**  \n",
    "**Minor**    - **5-29 % by volume**  \n",
    "**Rare**     - **<1 % by volume**  \n",
    "**Abundant** - **>70 % by volume**  \n",
    "**Major**    - **30- 70 % by volume**  "
   ]
  },
  {
   "cell_type": "code",
   "execution_count": null,
   "metadata": {},
   "outputs": [],
   "source": [
    "# Abundance of Minerals\n",
    "abundance_df = md_mineralogy['RELATIVE_ABUNDANCE_CODE'].value_counts()\n",
    "\n",
    "plt.figure(figsize=(15,16))\n",
    "plt.subplot(221)\n",
    "plt.pie(abundance_df.values, labels=abundance_df.index.values, colors=['skyblue', 'steelblue', 'olivedrab', 'indianred',\n",
    "                                                                    'limegreen'], autopct='%1.1f%%')\n",
    "plt.title('Abundance')\n",
    "\n",
    "# Whether mineral is a product of weathering\n",
    "weathering_df = md_mineralogy['WEATHERING_PRODUCT'].value_counts()\n",
    "\n",
    "plt.subplot(222)\n",
    "plt.pie(weathering_df.values, labels=weathering_df.index.values, colors=['skyblue', 'steelblue', 'olivedrab'],\n",
    "        autopct='%1.1f%%')\n",
    "plt.title('Weathering')\n",
    "\n",
    "plt.show()"
   ]
  },
  {
   "cell_type": "code",
   "execution_count": null,
   "metadata": {},
   "outputs": [],
   "source": [
    "md_zone_lith = md_zone_lith[['MINERAL_DEPOSIT_NO', 'LITHOLOGY', 'HR_STRAT_UNIT']]\n",
    "md_zone_hr_lith = md_zone_hr_lith[['MINERAL_DEPOSIT_NO', 'LITHOLOGY', 'HR_STRAT_UNIT']]"
   ]
  },
  {
   "cell_type": "code",
   "execution_count": null,
   "metadata": {
    "scrolled": false
   },
   "outputs": [],
   "source": [
    "\n",
    "\n",
    "# Lithology of mineralized zone\n",
    "plt.figure(figsize=(15,16))\n",
    "plt.subplot(221)\n",
    "md_zone_lith['LITHOLOGY'].value_counts()[:10].plot(kind='bar', figsize=(15,8), title='Minerals',\n",
    "                                                  color='olive', rot=90, fontsize=14)\n",
    "plt.title('Lithology of mineralized zone')\n",
    "\n",
    "# Lithology of host rocks within a mineralized zone\n",
    "plt.subplot(222)\n",
    "md_zone_hr_lith['LITHOLOGY'].value_counts()[:10].plot(kind='bar', figsize=(15,8), title='Minerals',\n",
    "                                                  color='olive', rot=90, fontsize=14)\n",
    "plt.title('Lithology of host rocks within a mineralized zone')\n",
    "\n",
    "plt.show()"
   ]
  },
  {
   "cell_type": "code",
   "execution_count": null,
   "metadata": {},
   "outputs": [],
   "source": [
    "# Stratigraphic unit of mineralized zone\n",
    "plt.figure(figsize=(15,16))\n",
    "plt.subplot(221)\n",
    "md_zone_lith['HR_STRAT_UNIT'].value_counts()[:10].plot(kind='bar', figsize=(15,8), title='Minerals',\n",
    "                                                  color='gray', rot=90, fontsize=14)\n",
    "plt.title('Stratigraphic unit of mineralized zone')\n",
    "\n",
    "# Stratigraphic unit of host rocks within a mineralized zone\n",
    "plt.subplot(222)\n",
    "md_zone_hr_lith['HR_STRAT_UNIT'].value_counts()[:10].plot(kind='bar', figsize=(15,8), title='Minerals',\n",
    "                                                  color='gray', rot=90, fontsize=14)\n",
    "plt.title('Stratigraphic unit of host rocks within a mineralized zone')\n",
    "\n",
    "plt.show()"
   ]
  }
 ],
 "metadata": {
  "kernelspec": {
   "display_name": "Python 3",
   "language": "python",
   "name": "python3"
  },
  "language_info": {
   "codemirror_mode": {
    "name": "ipython",
    "version": 3
   },
   "file_extension": ".py",
   "mimetype": "text/x-python",
   "name": "python",
   "nbconvert_exporter": "python",
   "pygments_lexer": "ipython3",
   "version": "3.7.6"
  }
 },
 "nbformat": 4,
 "nbformat_minor": 4
}
